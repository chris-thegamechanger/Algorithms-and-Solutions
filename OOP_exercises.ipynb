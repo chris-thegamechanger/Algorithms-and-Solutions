{
 "cells": [
  {
   "cell_type": "markdown",
   "id": "f03855e0-a11b-401b-b15d-6b5d0921dcf7",
   "metadata": {},
   "source": [
    " <font color = turquoise>OOP Exercise 1: Create a Class with instance attributes\n",
    "    Write a Python program to create a Vehicle class with max_speed and mileage instance attributes</font>\n",
    " "
   ]
  },
  {
   "cell_type": "code",
   "execution_count": 1,
   "id": "4e8afa39-6b7a-4a2d-8eed-53fb7f1e5ada",
   "metadata": {},
   "outputs": [
    {
     "name": "stdout",
     "output_type": "stream",
     "text": [
      "Speed:0\n",
      "200 19\n",
      "False\n"
     ]
    }
   ],
   "source": [
    "class Vehicle:\n",
    "    def __init__(self, max_speed, mileage):\n",
    "        self.__max_speed = max_speed\n",
    "        self.mileage = mileage\n",
    "    def show(self):\n",
    "        print(f\"Speed:{self.__max_speed}\")\n",
    "    def set_speed(self, max_speed):\n",
    "        self.__max_speed=  int(self.__max_speed == max_speed)\n",
    "        return self.__max_speed\n",
    "\n",
    "modelX = Vehicle(240, 19)\n",
    "#Encapsulation:\n",
    "modelX.abc = 200\n",
    "\n",
    "modelX.set_speed(200)\n",
    "modelX.show()\n",
    "\n",
    "print(modelX.abc, modelX.mileage)\n",
    "print(modelX.abc == modelX._Vehicle__max_speed)\n"
   ]
  },
  {
   "cell_type": "markdown",
   "id": "6e0d5d89-03d4-4e04-ae8e-48042ea5dcf4",
   "metadata": {
    "tags": []
   },
   "source": [
    "<font color = turquoise>Encapsulation (Object-Oriented Programming) in Python </font>\n",
    "\n",
    "    So this is my notes:\n",
    "           + Encapsulation describes the idea of wrapping data and methods that work on data within One Unit.\n",
    "           + Security - To prevent accidenta\n",
    "           + Hidding data\n",
    "           + We can access by python name mangling\n",
    "           + Modified: Pulic , Protected, Privated\n",
    "           \n",
    "    \n"
   ]
  },
  {
   "cell_type": "markdown",
   "id": "1083eadd-3225-41ac-80f2-fda2aa431f38",
   "metadata": {},
   "source": [
    "\n",
    "PRACTICE:\n",
    "\n",
    "<font color = turquoise>#Inheritance:\n"
   ]
  },
  {
   "cell_type": "code",
   "execution_count": 16,
   "id": "846e89a3-7854-441b-b9b5-d11feb4d9b82",
   "metadata": {},
   "outputs": [
    {
     "name": "stdout",
     "output_type": "stream",
     "text": [
      "Book: Two States, 20.00, Chetan Bhagat,160.0\n",
      "Book: Python Foundations, 12.00, PSF,655\n"
     ]
    }
   ],
   "source": [
    "#Parent\n",
    "class Book:\n",
    "    def __init__(self, title :str , quantity, author, price: float):\n",
    "        self.title = title\n",
    "        self.quantity = quantity\n",
    "        self.author = author\n",
    "        self.__price = price\n",
    "        self.__discount = None\n",
    "    # set_discount\n",
    "    def set_discount(self, discount):\n",
    "        self.__discount = discount\n",
    "    # get_price\n",
    "    def get_price(self):\n",
    "        if self.__discount:\n",
    "            return self.__price * (1-self.__discount)\n",
    "        return self.__price\n",
    "    # get specific information:\n",
    "    def __repr__(self):\n",
    "        return f\"Book: {self.title}, {self.quantity}, {self.author},{self.get_price()}\"\n",
    "# book1 = Book(\"Nguyen Duy\",123, 'chris',  123000.1230)\n",
    "# print(book1)\n",
    "\n",
    "# CHild:\n",
    "class Novel(Book):\n",
    "    def __init__(self, title, quantity, author, price, pages):\n",
    "        super().__init__(title, quantity, author, price)\n",
    "        self.pages = pages\n",
    "class Academic(Book): \n",
    "    def __init__(self, title, quantity, author, price, branch):\n",
    "        super().__init__(title, quantity, author, price)\n",
    "        self.branch = branch\n",
    "        \n",
    "\n",
    "#Let's create objects for these classes to visualize them.\n",
    "novel1 = Novel('Two States', 20, 'Chetan Bhagat', 200, 187)\n",
    "novel1.set_discount(0.2)\n",
    "academic1 = Academic('Python Foundations', 12, 'PSF', 655, 'IT')\n",
    "print(novel1)\n",
    "print(academic1)\n",
    "        "
   ]
  },
  {
   "cell_type": "markdown",
   "id": "94b45794-893c-4b5b-b562-d9502df84489",
   "metadata": {},
   "source": [
    "\n",
    "\n",
    "<font color = turquoise> #POLYMORPHISM"
   ]
  },
  {
   "cell_type": "code",
   "execution_count": 19,
   "id": "b03739e0-0677-4806-9f9e-7b3d59254ce6",
   "metadata": {},
   "outputs": [
    {
     "name": "stdout",
     "output_type": "stream",
     "text": [
      "Book: Two States, 20.00, Chetan Bhagat,160.0\n",
      "Book: Python Foundations, Branch: IT, Quantity: 12, Author: PSF, Price: 655\n"
     ]
    }
   ],
   "source": [
    "class Academic(Book):\n",
    "    def __init__(self, title, quantity, author, price, branch):\n",
    "        super().__init__(title, quantity, author, price)\n",
    "        self.branch = branch\n",
    "\n",
    "    def __repr__(self):\n",
    "        return f\"Book: {self.title}, Branch: {self.branch}, Quantity: {self.quantity}, Author: {self.author}, Price: {self.get_price()}\"\n",
    "    \n",
    "novel1 = Novel('Two States', 20, 'Chetan Bhagat', 200, 187)\n",
    "novel1.set_discount(0.20)\n",
    "\n",
    "academic1 = Academic('Python Foundations', 12, 'PSF', 655, 'IT')\n",
    "\n",
    "print(novel1)\n",
    "print(academic1)"
   ]
  },
  {
   "cell_type": "markdown",
   "id": "296a3d6f-bce2-448b-b58d-163b0b518405",
   "metadata": {},
   "source": [
    "<font color = turquoise> #Abstraction"
   ]
  },
  {
   "cell_type": "code",
   "execution_count": 24,
   "id": "7763e4e7-a54b-4d0d-957b-b1f2e8c30938",
   "metadata": {},
   "outputs": [
    {
     "name": "stdout",
     "output_type": "stream",
     "text": [
      "Book: Two States, Quantity: 20, Author: Chetan Bhagat, Price: 160.0\n",
      "Book: Python Foundations, Branch: IT, Quantity: 12, Author: PSF, Price: 655\n"
     ]
    }
   ],
   "source": [
    "from abc import ABC, abstractmethod\n",
    "class Book(ABC):\n",
    "    def __init__(self, title, quantity, author, price):\n",
    "        self.title = title\n",
    "        self.quantity = quantity\n",
    "        self.author = author\n",
    "        self.__price = price\n",
    "        self.__discount = None\n",
    "\n",
    "    def set_discount(self, discount):\n",
    "        self.__discount = discount\n",
    "\n",
    "    def get_price(self):\n",
    "        if self.__discount:\n",
    "            return self.__price * (1-self.__discount)\n",
    "        return self.__price\n",
    "\n",
    "    @abstractmethod\n",
    "    def __repr__(self):\n",
    "        return f\"Book: {self.title}, Quantity: {self.quantity}, Author: {self.author}, Price: {self.get_price()}\"\n",
    "\n",
    "\n",
    "class Novel(Book):\n",
    "    def __init__(self, title, quantity, author, price, pages):\n",
    "        super().__init__(title, quantity, author, price)\n",
    "        self.pages = pages\n",
    "    def __repr__(self):\n",
    "        return f\"Book: {self.title}, Quantity: {self.quantity}, Author: {self.author}, Price: {self.get_price()}\"\n",
    "\n",
    "class Academic(Book):\n",
    "    def __init__(self, title, quantity, author, price, branch):\n",
    "        super().__init__(title, quantity, author, price)\n",
    "        self.branch = branch\n",
    "\n",
    "    def __repr__(self):\n",
    "        return f\"Book: {self.title}, Branch: {self.branch}, Quantity: {self.quantity}, Author: {self.author}, Price: {self.get_price()}\"\n",
    "\n",
    "\n",
    "novel1 = Novel('Two States', 20, 'Chetan Bhagat', 200, 187)\n",
    "novel1.set_discount(0.20)\n",
    "\n",
    "academic1 = Academic('Python Foundations', 12, 'PSF', 655, 'IT')\n",
    "\n",
    "print(novel1)\n",
    "print(academic1)\n"
   ]
  },
  {
   "cell_type": "markdown",
   "id": "c0283a29-e939-4b77-9b8f-a3ecae8a1d9c",
   "metadata": {},
   "source": [
    "<font color = turquoise> #Method Overloading . This example below illustrate python doesn't support method overloading by default."
   ]
  },
  {
   "cell_type": "code",
   "execution_count": 25,
   "id": "e21a6dd2-b8c4-4522-b13c-e375583172f4",
   "metadata": {},
   "outputs": [
    {
     "ename": "TypeError",
     "evalue": "add() missing 1 required positional argument: 'z'",
     "output_type": "error",
     "traceback": [
      "\u001b[1;31m---------------------------------------------------------------------------\u001b[0m",
      "\u001b[1;31mTypeError\u001b[0m                                 Traceback (most recent call last)",
      "\u001b[1;32m~\\AppData\\Local\\Temp/ipykernel_2344/3150835157.py\u001b[0m in \u001b[0;36m<module>\u001b[1;34m\u001b[0m\n\u001b[0;32m      5\u001b[0m         \u001b[0mprint\u001b[0m\u001b[1;33m(\u001b[0m\u001b[0mx\u001b[0m\u001b[1;33m+\u001b[0m\u001b[0my\u001b[0m\u001b[1;33m+\u001b[0m\u001b[0mz\u001b[0m\u001b[1;33m)\u001b[0m\u001b[1;33m\u001b[0m\u001b[1;33m\u001b[0m\u001b[0m\n\u001b[0;32m      6\u001b[0m \u001b[0mobject1\u001b[0m \u001b[1;33m=\u001b[0m \u001b[0mOverloadingDemo\u001b[0m\u001b[1;33m(\u001b[0m\u001b[1;33m)\u001b[0m\u001b[1;33m\u001b[0m\u001b[1;33m\u001b[0m\u001b[0m\n\u001b[1;32m----> 7\u001b[1;33m \u001b[0mobject1\u001b[0m\u001b[1;33m.\u001b[0m\u001b[0madd\u001b[0m\u001b[1;33m(\u001b[0m\u001b[1;36m2\u001b[0m\u001b[1;33m,\u001b[0m\u001b[1;36m3\u001b[0m\u001b[1;33m)\u001b[0m\u001b[1;33m\u001b[0m\u001b[1;33m\u001b[0m\u001b[0m\n\u001b[0m",
      "\u001b[1;31mTypeError\u001b[0m: add() missing 1 required positional argument: 'z'"
     ]
    }
   ],
   "source": [
    "class OverloadingDemo:\n",
    "    def add(self, x, y):\n",
    "        print(x+y)\n",
    "    def add(self, x, y, z):\n",
    "        print(x+y+z)\n",
    "object1 = OverloadingDemo()\n",
    "object1.add(2,3)"
   ]
  },
  {
   "cell_type": "markdown",
   "id": "ba700f2e-b839-4c96-8dfe-7def9e3a2ca5",
   "metadata": {},
   "source": [
    "<font color = turquoise> Method Overriding"
   ]
  },
  {
   "cell_type": "code",
   "execution_count": 31,
   "id": "1239bedc-a4b1-4e3a-ab0a-9b95028d3a82",
   "metadata": {},
   "outputs": [
    {
     "name": "stdout",
     "output_type": "stream",
     "text": [
      "I'm parent class\n",
      "I'm child class\n",
      "I'm parent class\n"
     ]
    }
   ],
   "source": [
    "class Parent:\n",
    "    def call_me(self):\n",
    "        print(\"I'm parent class\")\n",
    "    \n",
    "class Child(Parent):\n",
    "    def call_me(self):\n",
    "        print(\"I'm child class\")\n",
    "        super().call_me() #we can invoke the parent class's call_me() from the child class using super()\n",
    "    \n",
    "poo = Parent()\n",
    "poo.call_me()\n",
    "\n",
    "coo = Child()\n",
    "coo.call_me()"
   ]
  },
  {
   "cell_type": "code",
   "execution_count": 17,
   "id": "dc7bf993-b3fa-48c3-9a56-c97f8a853e39",
   "metadata": {},
   "outputs": [
    {
     "name": "stdin",
     "output_type": "stream",
     "text": [
      " abcd\n",
      " gh\n"
     ]
    },
    {
     "data": {
      "text/plain": [
       "-1"
      ]
     },
     "execution_count": 17,
     "metadata": {},
     "output_type": "execute_result"
    }
   ],
   "source": [
    "string = str(input(''))\n",
    "sub_string = str(input())\n",
    "\n",
    "\n",
    "def find_numberOfIteration(string, sub_string):\n",
    "    count = 0\n",
    "    for i in range(len(string)):\n",
    "        if string[i : i+len(sub_string)] == sub_string:\n",
    "            count += 1\n",
    "\n",
    "    if count > 0:\n",
    "        return count\n",
    "    else:\n",
    "        return -1\n",
    "    \n",
    "\n",
    "find_numberOfIteration(string, sub_string)"
   ]
  },
  {
   "cell_type": "code",
   "execution_count": 12,
   "id": "d3caca44-7060-4999-8809-2211dd55f9c6",
   "metadata": {},
   "outputs": [
    {
     "name": "stdout",
     "output_type": "stream",
     "text": [
      "2\n"
     ]
    }
   ],
   "source": [
    "s = 'arunununghhjj'\n",
    "sb = 'nun'\n",
    "results = 0\n",
    "sub_len = len(sb)\n",
    "for i in range(len(s)):\n",
    "    if s[i:i+sub_len] == sb:\n",
    "        results += 1\n",
    "print(results)"
   ]
  },
  {
   "cell_type": "code",
   "execution_count": 20,
   "id": "ecd98bab-52cb-4feb-ae20-c2cd7956087a",
   "metadata": {},
   "outputs": [
    {
     "name": "stdout",
     "output_type": "stream",
     "text": [
      "[8]\n"
     ]
    }
   ],
   "source": [
    "letters = \"nguyenduy\"\n",
    "indexes =[ s.index(l) for l in letters if s.count(l) == 1]\n",
    "print(indexes)"
   ]
  },
  {
   "cell_type": "code",
   "execution_count": 23,
   "id": "f25cd822-4653-4518-a3e4-00130f515f06",
   "metadata": {},
   "outputs": [],
   "source": [
    "def firstUniqChar( s):\n",
    "        \"\"\"\n",
    "        :type s: str\n",
    "        :rtype: int\n",
    "        \"\"\"\n",
    "        letters = 'abcdefghijklmnopqrstuvwxyz'\n",
    "        indexes =[ s.index(l) for l in letters if s.count(l) == 1]\n",
    "        return min(indexes) if len(indexes) > 0 else -1"
   ]
  },
  {
   "cell_type": "code",
   "execution_count": 24,
   "id": "b8784183-49ca-493d-8ec2-3b60eb71a2fc",
   "metadata": {},
   "outputs": [
    {
     "data": {
      "text/plain": [
       "2"
      ]
     },
     "execution_count": 24,
     "metadata": {},
     "output_type": "execute_result"
    }
   ],
   "source": [
    "firstUniqChar('loveleetcode')"
   ]
  },
  {
   "cell_type": "code",
   "execution_count": 42,
   "id": "320abaea-9ea3-4452-af5f-a03859ec0181",
   "metadata": {},
   "outputs": [
    {
     "name": "stdout",
     "output_type": "stream",
     "text": [
      "1\n"
     ]
    },
    {
     "data": {
      "text/plain": [
       "[3, 4]"
      ]
     },
     "execution_count": 42,
     "metadata": {},
     "output_type": "execute_result"
    }
   ],
   "source": [
    "s = 'loveleetcode'\n",
    "print(s.count('t'))\n",
    "index =list()\n",
    "index.append(s.index('e'))\n",
    "index.append(int('4'))\n",
    "index\n"
   ]
  },
  {
   "cell_type": "code",
   "execution_count": 1,
   "id": "d5d08378-15ba-4de3-b380-573352dc575a",
   "metadata": {},
   "outputs": [
    {
     "name": "stdin",
     "output_type": "stream",
     "text": [
      " [-1,0,3,5,9,1222]\n",
      " 9\n"
     ]
    },
    {
     "ename": "IndexError",
     "evalue": "list index out of range",
     "output_type": "error",
     "traceback": [
      "\u001b[1;31m---------------------------------------------------------------------------\u001b[0m",
      "\u001b[1;31mIndexError\u001b[0m                                Traceback (most recent call last)",
      "\u001b[1;32m~\\AppData\\Local\\Temp/ipykernel_34936/625155634.py\u001b[0m in \u001b[0;36m<module>\u001b[1;34m\u001b[0m\n\u001b[0;32m     37\u001b[0m \u001b[0ml\u001b[0m \u001b[1;33m=\u001b[0m \u001b[0mlist2\u001b[0m\u001b[1;33m[\u001b[0m\u001b[1;36m0\u001b[0m\u001b[1;33m]\u001b[0m\u001b[1;33m\u001b[0m\u001b[1;33m\u001b[0m\u001b[0m\n\u001b[0;32m     38\u001b[0m \u001b[1;33m\u001b[0m\u001b[0m\n\u001b[1;32m---> 39\u001b[1;33m \u001b[0mrs\u001b[0m \u001b[1;33m=\u001b[0m \u001b[0mbinary_search\u001b[0m\u001b[1;33m(\u001b[0m\u001b[0mlist2\u001b[0m\u001b[1;33m,\u001b[0m \u001b[0ml\u001b[0m\u001b[1;33m,\u001b[0m \u001b[0mh\u001b[0m\u001b[1;33m,\u001b[0m \u001b[0mx\u001b[0m\u001b[1;33m)\u001b[0m\u001b[1;33m\u001b[0m\u001b[1;33m\u001b[0m\u001b[0m\n\u001b[0m\u001b[0;32m     40\u001b[0m \u001b[0mprint\u001b[0m\u001b[1;33m(\u001b[0m\u001b[0mrs\u001b[0m\u001b[1;33m)\u001b[0m\u001b[1;33m\u001b[0m\u001b[1;33m\u001b[0m\u001b[0m\n",
      "\u001b[1;32m~\\AppData\\Local\\Temp/ipykernel_34936/625155634.py\u001b[0m in \u001b[0;36mbinary_search\u001b[1;34m(arr, low, high, x)\u001b[0m\n\u001b[0;32m      7\u001b[0m \u001b[1;33m\u001b[0m\u001b[0m\n\u001b[0;32m      8\u001b[0m         \u001b[1;31m# If element is present at the middle itself\u001b[0m\u001b[1;33m\u001b[0m\u001b[1;33m\u001b[0m\u001b[1;33m\u001b[0m\u001b[0m\n\u001b[1;32m----> 9\u001b[1;33m         \u001b[1;32mif\u001b[0m \u001b[0marr\u001b[0m\u001b[1;33m[\u001b[0m\u001b[0mmid\u001b[0m\u001b[1;33m]\u001b[0m \u001b[1;33m==\u001b[0m \u001b[0mx\u001b[0m\u001b[1;33m:\u001b[0m\u001b[1;33m\u001b[0m\u001b[1;33m\u001b[0m\u001b[0m\n\u001b[0m\u001b[0;32m     10\u001b[0m             \u001b[1;32mreturn\u001b[0m \u001b[0mmid\u001b[0m\u001b[1;33m\u001b[0m\u001b[1;33m\u001b[0m\u001b[0m\n\u001b[0;32m     11\u001b[0m \u001b[1;33m\u001b[0m\u001b[0m\n",
      "\u001b[1;31mIndexError\u001b[0m: list index out of range"
     ]
    }
   ],
   "source": [
    "def binary_search(arr, low, high, x):\n",
    "    mid = 0\n",
    "# Check base case\n",
    "    if high >= low:\n",
    " \n",
    "        mid = (high + low)//2\n",
    " \n",
    "        # If element is present at the middle itself\n",
    "        if arr[mid] == x:\n",
    "            return mid\n",
    " \n",
    "        # If element is smaller than mid, then it can only\n",
    "        # be present in left subarray\n",
    "        elif arr[mid] > x:\n",
    "            return binary_search(arr, low, mid - 1, x)\n",
    " \n",
    "        # Else the element can only be present in right subarray\n",
    "        else:\n",
    "            return binary_search(arr, mid + 1, high, x)\n",
    " \n",
    "    else:\n",
    "        # Element is not present in the array\n",
    "        return -1\n",
    "arr = input()\n",
    "x = int(input())\n",
    "r_list = ['[', ']'] \n",
    "for i in r_list:\n",
    "    arr =arr.replace(i, '')\n",
    "arr1 = arr.split(',')\n",
    "list2 = []\n",
    "for i in arr1:\n",
    "    num = int(i)\n",
    "    list2.append(num)\n",
    "\n",
    "ind =len(list2)\n",
    "h = list2[ind-1]\n",
    "l = list2[0]\n",
    "\n",
    "rs = binary_search(list2, l, h, x)\n",
    "print(rs)"
   ]
  },
  {
   "cell_type": "code",
   "execution_count": 15,
   "id": "e7904023-e895-4bf1-81c6-db73f76d8833",
   "metadata": {},
   "outputs": [],
   "source": [
    "num = 3 + (12-0.7)//2"
   ]
  },
  {
   "cell_type": "code",
   "execution_count": 16,
   "id": "97043b33-76f3-4b11-b7ba-168c18411335",
   "metadata": {},
   "outputs": [
    {
     "name": "stdout",
     "output_type": "stream",
     "text": [
      "8.0\n"
     ]
    }
   ],
   "source": [
    "print(num)"
   ]
  },
  {
   "cell_type": "code",
   "execution_count": 18,
   "id": "64250719-a21a-45e6-afbf-945d39c89cff",
   "metadata": {},
   "outputs": [
    {
     "ename": "NameError",
     "evalue": "name 'List' is not defined",
     "output_type": "error",
     "traceback": [
      "\u001b[1;31m---------------------------------------------------------------------------\u001b[0m",
      "\u001b[1;31mNameError\u001b[0m                                 Traceback (most recent call last)",
      "\u001b[1;32m~\\AppData\\Local\\Temp/ipykernel_38632/1272416809.py\u001b[0m in \u001b[0;36m<module>\u001b[1;34m\u001b[0m\n\u001b[1;32m----> 1\u001b[1;33m \u001b[1;32mdef\u001b[0m \u001b[0msearch\u001b[0m\u001b[1;33m(\u001b[0m\u001b[0mnums\u001b[0m\u001b[1;33m:\u001b[0m \u001b[0mList\u001b[0m\u001b[1;33m[\u001b[0m\u001b[0mint\u001b[0m\u001b[1;33m]\u001b[0m\u001b[1;33m,\u001b[0m \u001b[0mtarget\u001b[0m\u001b[1;33m:\u001b[0m \u001b[0mint\u001b[0m\u001b[1;33m)\u001b[0m \u001b[1;33m->\u001b[0m \u001b[0mint\u001b[0m\u001b[1;33m:\u001b[0m\u001b[1;33m\u001b[0m\u001b[1;33m\u001b[0m\u001b[0m\n\u001b[0m\u001b[0;32m      2\u001b[0m     \u001b[0mleft\u001b[0m\u001b[1;33m,\u001b[0m \u001b[0mright\u001b[0m \u001b[1;33m=\u001b[0m \u001b[1;36m0\u001b[0m\u001b[1;33m,\u001b[0m \u001b[0mlen\u001b[0m\u001b[1;33m(\u001b[0m\u001b[0mnums\u001b[0m\u001b[1;33m)\u001b[0m \u001b[1;33m-\u001b[0m \u001b[1;36m1\u001b[0m\u001b[1;33m\u001b[0m\u001b[1;33m\u001b[0m\u001b[0m\n\u001b[0;32m      3\u001b[0m     \u001b[1;32mwhile\u001b[0m \u001b[0mleft\u001b[0m \u001b[1;33m<=\u001b[0m \u001b[0mright\u001b[0m\u001b[1;33m:\u001b[0m\u001b[1;33m\u001b[0m\u001b[1;33m\u001b[0m\u001b[0m\n\u001b[0;32m      4\u001b[0m         \u001b[0mpivot\u001b[0m \u001b[1;33m=\u001b[0m \u001b[0mleft\u001b[0m \u001b[1;33m+\u001b[0m \u001b[1;33m(\u001b[0m\u001b[0mright\u001b[0m \u001b[1;33m-\u001b[0m \u001b[0mleft\u001b[0m\u001b[1;33m)\u001b[0m \u001b[1;33m//\u001b[0m \u001b[1;36m2\u001b[0m\u001b[1;33m\u001b[0m\u001b[1;33m\u001b[0m\u001b[0m\n\u001b[0;32m      5\u001b[0m         \u001b[1;32mif\u001b[0m \u001b[0mnums\u001b[0m\u001b[1;33m[\u001b[0m\u001b[0mpivot\u001b[0m\u001b[1;33m]\u001b[0m \u001b[1;33m==\u001b[0m \u001b[0mtarget\u001b[0m\u001b[1;33m:\u001b[0m\u001b[1;33m\u001b[0m\u001b[1;33m\u001b[0m\u001b[0m\n",
      "\u001b[1;31mNameError\u001b[0m: name 'List' is not defined"
     ]
    }
   ],
   "source": [
    "\n",
    "def search(nums: List[int], target: int) -> int:\n",
    "    left, right = 0, len(nums) - 1\n",
    "    while left <= right:\n",
    "        pivot = left + (right - left) // 2\n",
    "        if nums[pivot] == target:\n",
    "            return pivot\n",
    "        if target < nums[pivot]:\n",
    "            right = pivot - 1\n",
    "        else:\n",
    "            left = pivot + 1\n",
    "    return -1"
   ]
  },
  {
   "cell_type": "code",
   "execution_count": null,
   "id": "e85f8219-05c0-4976-91de-ef3984dbec62",
   "metadata": {},
   "outputs": [],
   "source": []
  }
 ],
 "metadata": {
  "kernelspec": {
   "display_name": "Python 3 (ipykernel)",
   "language": "python",
   "name": "python3"
  },
  "language_info": {
   "codemirror_mode": {
    "name": "ipython",
    "version": 3
   },
   "file_extension": ".py",
   "mimetype": "text/x-python",
   "name": "python",
   "nbconvert_exporter": "python",
   "pygments_lexer": "ipython3",
   "version": "3.7.11"
  }
 },
 "nbformat": 4,
 "nbformat_minor": 5
}
